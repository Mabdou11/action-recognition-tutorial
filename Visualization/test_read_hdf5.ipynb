{
 "cells": [
  {
   "cell_type": "code",
   "execution_count": 2,
   "metadata": {},
   "outputs": [],
   "source": [
    "import h5py\n",
    "import numpy as np\n",
    "# filename = 'file.hdf5'\n",
    "# f = h5py.File(filename, 'r')"
   ]
  },
  {
   "cell_type": "code",
   "execution_count": 3,
   "metadata": {},
   "outputs": [],
   "source": [
    "path = 'F:/Master Project/Dataset/NTU RGB D/2 Stream/cross_subject/'\n",
    "filename_train = path+'cs_trn.hdf5'\n",
    "filename_test = path+'cs_tst.hdf5'\n",
    "f_train = h5py.File(filename_train, 'r')\n",
    "f_test = h5py.File(filename_test, 'r')"
   ]
  },
  {
   "cell_type": "code",
   "execution_count": 4,
   "metadata": {},
   "outputs": [
    {
     "name": "stdout",
     "output_type": "stream",
     "text": [
      "39780\n",
      "16324\n"
     ]
    }
   ],
   "source": [
    "key_train = list(f_train.keys())\n",
    "key_test = list(f_test.keys())\n",
    "print(len(key_train))\n",
    "print(len(key_test))"
   ]
  },
  {
   "cell_type": "markdown",
   "metadata": {},
   "source": [
    "### Key"
   ]
  },
  {
   "cell_type": "code",
   "execution_count": 5,
   "metadata": {},
   "outputs": [
    {
     "name": "stdout",
     "output_type": "stream",
     "text": [
      "['S001C001P001R001A001', 'S001C001P001R001A002', 'S001C001P001R001A003', 'S001C001P001R001A004', 'S001C001P001R001A005']\n",
      "['S001C001P003R001A001', 'S001C001P003R001A002', 'S001C001P003R001A003', 'S001C001P003R001A004', 'S001C001P003R001A005']\n"
     ]
    }
   ],
   "source": [
    "print(key_train[0:5])\n",
    "print(key_test[0:5])"
   ]
  },
  {
   "cell_type": "markdown",
   "metadata": {},
   "source": [
    "### Data X"
   ]
  },
  {
   "cell_type": "code",
   "execution_count": 6,
   "metadata": {},
   "outputs": [
    {
     "name": "stdout",
     "output_type": "stream",
     "text": [
      "<HDF5 dataset \"S001C001P001R001A001\": shape (2, 103, 25, 3), type \"<f4\">\n",
      "(2, 103, 25, 3)\n",
      "(103, 25, 3)\n"
     ]
    }
   ],
   "source": [
    "temp = f_train[key_train[0]] # 1 files\n",
    "print(temp)\n",
    "print(temp.shape)\n",
    "print(temp[0].shape)"
   ]
  },
  {
   "cell_type": "code",
   "execution_count": 7,
   "metadata": {},
   "outputs": [
    {
     "name": "stdout",
     "output_type": "stream",
     "text": [
      "<HDF5 dataset \"S001C001P003R001A001\": shape (2, 118, 25, 3), type \"<f4\">\n"
     ]
    }
   ],
   "source": [
    "print(f_test[key_test[0]])"
   ]
  },
  {
   "cell_type": "code",
   "execution_count": 8,
   "metadata": {},
   "outputs": [
    {
     "name": "stdout",
     "output_type": "stream",
     "text": [
      "(2, 2, 3)\n",
      "[[ 0  1  2  3  4  5]\n",
      " [ 6  7  8  9 10 11]]\n"
     ]
    }
   ],
   "source": [
    "test_num = np.array([[  \n",
    "                        [0,1,2],\n",
    "                        [3,4,5]\n",
    "                     ],\n",
    "                     [\n",
    "                         [6,7,8],\n",
    "                         [9,10,11]\n",
    "                     ]\n",
    "                    ])\n",
    "print(test_num.shape)\n",
    "print(test_num.reshape((2, 3*2)))"
   ]
  },
  {
   "cell_type": "code",
   "execution_count": 9,
   "metadata": {},
   "outputs": [
    {
     "data": {
      "text/plain": [
       "array([[ 0.2181153 ,  0.1725972 ,  3.785547  ],\n",
       "       [ 0.2323292 ,  0.4326636 ,  3.714767  ],\n",
       "       [ 0.2457799 ,  0.6877249 ,  3.633897  ],\n",
       "       [ 0.2128507 ,  0.8079225 ,  3.581995  ],\n",
       "       [ 0.1109304 ,  0.6111551 ,  3.716962  ],\n",
       "       [ 0.100875  ,  0.4286715 ,  3.742593  ],\n",
       "       [ 0.1186992 ,  0.3428923 ,  3.556542  ],\n",
       "       [ 0.1165352 ,  0.3173672 ,  3.550741  ],\n",
       "       [ 0.3449145 ,  0.5740387 ,  3.588655  ],\n",
       "       [ 0.4211396 ,  0.3847547 ,  3.627778  ],\n",
       "       [ 0.1918999 ,  0.3189077 ,  3.540756  ],\n",
       "       [ 0.1298675 ,  0.317039  ,  3.542577  ],\n",
       "       [ 0.162766  ,  0.1745395 ,  3.778471  ],\n",
       "       [ 0.1975115 , -0.1360554 ,  3.904381  ],\n",
       "       [ 0.2442706 , -0.4201995 ,  4.054147  ],\n",
       "       [ 0.2040377 , -0.476396  ,  4.094294  ],\n",
       "       [ 0.2699234 ,  0.1678491 ,  3.730005  ],\n",
       "       [ 0.3105748 , -0.1462299 ,  3.818383  ],\n",
       "       [ 0.3428889 , -0.433214  ,  3.943258  ],\n",
       "       [ 0.2951482 , -0.5017325 ,  3.968896  ],\n",
       "       [ 0.2425592 ,  0.6247278 ,  3.656055  ],\n",
       "       [ 0.1200176 ,  0.2955468 ,  3.532409  ],\n",
       "       [ 0.0989792 ,  0.3459614 ,  3.527539  ],\n",
       "       [ 0.08710064,  0.2988889 ,  3.54619   ],\n",
       "       [ 0.1268453 ,  0.2813963 ,  3.549525  ]], dtype=float32)"
      ]
     },
     "execution_count": 9,
     "metadata": {},
     "output_type": "execute_result"
    }
   ],
   "source": [
    "temp[0,0] # first person, first frame --> 25 joints "
   ]
  },
  {
   "cell_type": "code",
   "execution_count": 10,
   "metadata": {},
   "outputs": [
    {
     "name": "stdout",
     "output_type": "stream",
     "text": [
      "(103, 75)\n",
      "[ 0.2181153   0.1725972   3.785547    0.2323292   0.4326636   3.714767\n",
      "  0.2457799   0.6877249   3.633897    0.2128507   0.8079225   3.581995\n",
      "  0.1109304   0.6111551   3.716962    0.100875    0.4286715   3.742593\n",
      "  0.1186992   0.3428923   3.556542    0.1165352   0.3173672   3.550741\n",
      "  0.3449145   0.5740387   3.588655    0.4211396   0.3847547   3.627778\n",
      "  0.1918999   0.3189077   3.540756    0.1298675   0.317039    3.542577\n",
      "  0.162766    0.1745395   3.778471    0.1975115  -0.1360554   3.904381\n",
      "  0.2442706  -0.4201995   4.054147    0.2040377  -0.476396    4.094294\n",
      "  0.2699234   0.1678491   3.730005    0.3105748  -0.1462299   3.818383\n",
      "  0.3428889  -0.433214    3.943258    0.2951482  -0.5017325   3.968896\n",
      "  0.2425592   0.6247278   3.656055    0.1200176   0.2955468   3.532409\n",
      "  0.0989792   0.3459614   3.527539    0.08710064  0.2988889   3.54619\n",
      "  0.1268453   0.2813963   3.549525  ]\n"
     ]
    }
   ],
   "source": [
    "shape_d = temp[0].shape\n",
    "new_sequence = temp[0].reshape((shape_d[0], shape_d[1]*shape_d[2]))\n",
    "print(new_sequence.shape)\n",
    "print(new_sequence[0])"
   ]
  },
  {
   "cell_type": "markdown",
   "metadata": {},
   "source": [
    "### Data Y"
   ]
  },
  {
   "cell_type": "markdown",
   "metadata": {},
   "source": [
    "#### see list of attribute key ( for getting key for Y )"
   ]
  },
  {
   "cell_type": "code",
   "execution_count": 11,
   "metadata": {},
   "outputs": [
    {
     "data": {
      "text/plain": [
       "['label']"
      ]
     },
     "execution_count": 11,
     "metadata": {},
     "output_type": "execute_result"
    }
   ],
   "source": [
    "temp2 = f_train[key_train[0]]\n",
    "list( temp2.attrs.keys() )"
   ]
  },
  {
   "cell_type": "code",
   "execution_count": 12,
   "metadata": {},
   "outputs": [
    {
     "data": {
      "text/plain": [
       "array([[1.],\n",
       "       [0.],\n",
       "       [0.],\n",
       "       [0.],\n",
       "       [0.]], dtype=float32)"
      ]
     },
     "execution_count": 12,
     "metadata": {},
     "output_type": "execute_result"
    }
   ],
   "source": [
    "temp2.attrs['label'][0:5]  # same way with f_test"
   ]
  }
 ],
 "metadata": {
  "kernelspec": {
   "display_name": "Python 3",
   "language": "python",
   "name": "python3"
  },
  "language_info": {
   "codemirror_mode": {
    "name": "ipython",
    "version": 3
   },
   "file_extension": ".py",
   "mimetype": "text/x-python",
   "name": "python",
   "nbconvert_exporter": "python",
   "pygments_lexer": "ipython3",
   "version": "3.7.4"
  }
 },
 "nbformat": 4,
 "nbformat_minor": 2
}
