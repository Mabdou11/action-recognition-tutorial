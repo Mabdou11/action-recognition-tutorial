{
 "cells": [
  {
   "cell_type": "code",
   "execution_count": 2,
   "metadata": {},
   "outputs": [],
   "source": [
    "from keras.layers import Dense, SimpleRNN\n",
    "from keras import Sequential\n",
    "import numpy as np"
   ]
  },
  {
   "cell_type": "code",
   "execution_count": 53,
   "metadata": {},
   "outputs": [],
   "source": [
    "model = Sequential()\n",
    "model.add(SimpleRNN(4, input_shape=(3, 2),return_sequences=False))\n",
    "# model.add(Dense(3) )\n",
    "# model.add(Dense(2) ) # output"
   ]
  },
  {
   "cell_type": "code",
   "execution_count": 54,
   "metadata": {},
   "outputs": [
    {
     "name": "stdout",
     "output_type": "stream",
     "text": [
      "layer 0 :\n",
      "(2, 4)\n",
      "(4, 4)\n",
      "(4,)\n",
      "[array([[-0.55125   , -0.30611253,  0.29074168, -0.00727749],\n",
      "       [-0.31752682,  0.24748206, -0.63212466,  0.5449233 ]],\n",
      "      dtype=float32), array([[ 0.00219155,  0.54321325, -0.6506333 ,  0.5306514 ],\n",
      "       [-0.92280847, -0.29861066, -0.24316114,  0.01135006],\n",
      "       [ 0.3584209 , -0.5525499 , -0.69512343, -0.28814304],\n",
      "       [ 0.14125909, -0.5571711 ,  0.18534398,  0.7970281 ]],\n",
      "      dtype=float32), array([0., 0., 0., 0.], dtype=float32)]\n"
     ]
    }
   ],
   "source": [
    "for i,layer in enumerate(model.layers): \n",
    "    layer_dim = len(layer.get_weights())\n",
    "    print('layer', i, ':')\n",
    "    for j in range(layer_dim):\n",
    "        print(layer.get_weights()[j].shape)\n",
    "    print(layer.get_weights())\n",
    "        "
   ]
  },
  {
   "cell_type": "code",
   "execution_count": 47,
   "metadata": {},
   "outputs": [],
   "source": [
    "model.save('path_to_my_model.h5')"
   ]
  },
  {
   "cell_type": "code",
   "execution_count": 52,
   "metadata": {},
   "outputs": [],
   "source": [
    "model2 = Sequential()\n",
    "model2.add(SimpleRNN(4, input_shape=(10, 2),return_sequences=False))\n",
    "# model.add(Dense(3) )\n",
    "model2.add(Dense(2) )\n",
    "model2.load_weights('path_to_my_model.h5')"
   ]
  }
 ],
 "metadata": {
  "kernelspec": {
   "display_name": "Python 3",
   "language": "python",
   "name": "python3"
  },
  "language_info": {
   "codemirror_mode": {
    "name": "ipython",
    "version": 3
   },
   "file_extension": ".py",
   "mimetype": "text/x-python",
   "name": "python",
   "nbconvert_exporter": "python",
   "pygments_lexer": "ipython3",
   "version": "3.7.4"
  }
 },
 "nbformat": 4,
 "nbformat_minor": 2
}
